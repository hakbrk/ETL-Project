{
 "cells": [
  {
   "cell_type": "code",
   "execution_count": 1,
   "metadata": {},
   "outputs": [],
   "source": [
    "import pandas as pd\n",
    "import requests\n",
    "from tqdm import tqdm_notebook\n",
    "import json\n",
    "from api_keys import api_key\n",
    "import os\n",
    "from sqlalchemy import create_engine\n",
    "import numpy as np"
   ]
  },
  {
   "cell_type": "code",
   "execution_count": 2,
   "metadata": {},
   "outputs": [],
   "source": [
    "imdb_data = \"movies_metadata.csv\"\n",
    "imdb_data_df = pd.read_csv(imdb_data, low_memory=False)"
   ]
  },
  {
   "cell_type": "code",
   "execution_count": 3,
   "metadata": {},
   "outputs": [],
   "source": [
    "imdb_id_df = imdb_data_df['imdb_id']"
   ]
  },
  {
   "cell_type": "code",
   "execution_count": 4,
   "metadata": {},
   "outputs": [],
   "source": [
    "#test = imdb_id_df.head(200)"
   ]
  },
  {
   "cell_type": "code",
   "execution_count": 5,
   "metadata": {},
   "outputs": [],
   "source": [
    "#test_df = pd.DataFrame(test)"
   ]
  },
  {
   "cell_type": "code",
   "execution_count": 6,
   "metadata": {},
   "outputs": [],
   "source": [
    "#test_df"
   ]
  },
  {
   "cell_type": "code",
   "execution_count": 7,
   "metadata": {},
   "outputs": [
    {
     "data": {
      "application/vnd.jupyter.widget-view+json": {
       "model_id": "0d6d22dc6b09496094a7bb75a06d7f6d",
       "version_major": 2,
       "version_minor": 0
      },
      "text/plain": [
       "HBox(children=(IntProgress(value=0, max=45466), HTML(value='')))"
      ]
     },
     "metadata": {},
     "output_type": "display_data"
    },
    {
     "ename": "JSONDecodeError",
     "evalue": "Expecting value: line 1 column 1 (char 0)",
     "output_type": "error",
     "traceback": [
      "\u001b[1;31m---------------------------------------------------------------------------\u001b[0m",
      "\u001b[1;31mJSONDecodeError\u001b[0m                           Traceback (most recent call last)",
      "\u001b[1;32m<ipython-input-7-8e711b80ad68>\u001b[0m in \u001b[0;36m<module>\u001b[1;34m\u001b[0m\n\u001b[0;32m      4\u001b[0m \u001b[0momdb_data\u001b[0m \u001b[1;33m=\u001b[0m \u001b[1;33m[\u001b[0m\u001b[1;33m]\u001b[0m\u001b[1;33m\u001b[0m\u001b[1;33m\u001b[0m\u001b[0m\n\u001b[0;32m      5\u001b[0m \u001b[1;32mfor\u001b[0m \u001b[0mid_\u001b[0m \u001b[1;32min\u001b[0m \u001b[0mtqdm_notebook\u001b[0m\u001b[1;33m(\u001b[0m\u001b[0mimdb_id_df\u001b[0m\u001b[1;33m)\u001b[0m\u001b[1;33m:\u001b[0m\u001b[1;33m\u001b[0m\u001b[1;33m\u001b[0m\u001b[0m\n\u001b[1;32m----> 6\u001b[1;33m     \u001b[0mresponse\u001b[0m \u001b[1;33m=\u001b[0m \u001b[0mrequests\u001b[0m\u001b[1;33m.\u001b[0m\u001b[0mget\u001b[0m\u001b[1;33m(\u001b[0m\u001b[0murl\u001b[0m \u001b[1;33m+\u001b[0m \u001b[0mid_\u001b[0m\u001b[1;33m+\u001b[0m\u001b[0mapi\u001b[0m\u001b[1;33m)\u001b[0m\u001b[1;33m.\u001b[0m\u001b[0mjson\u001b[0m\u001b[1;33m(\u001b[0m\u001b[1;33m)\u001b[0m\u001b[1;33m\u001b[0m\u001b[1;33m\u001b[0m\u001b[0m\n\u001b[0m\u001b[0;32m      7\u001b[0m     \u001b[0mdirector\u001b[0m \u001b[1;33m=\u001b[0m \u001b[0mresponse\u001b[0m\u001b[1;33m[\u001b[0m\u001b[1;34m'Director'\u001b[0m\u001b[1;33m]\u001b[0m\u001b[1;33m\u001b[0m\u001b[1;33m\u001b[0m\u001b[0m\n\u001b[0;32m      8\u001b[0m     \u001b[0mactors\u001b[0m \u001b[1;33m=\u001b[0m \u001b[0mresponse\u001b[0m\u001b[1;33m[\u001b[0m\u001b[1;34m'Actors'\u001b[0m\u001b[1;33m]\u001b[0m\u001b[1;33m\u001b[0m\u001b[1;33m\u001b[0m\u001b[0m\n",
      "\u001b[1;32m~\\Anaconda3\\lib\\site-packages\\requests\\models.py\u001b[0m in \u001b[0;36mjson\u001b[1;34m(self, **kwargs)\u001b[0m\n\u001b[0;32m    895\u001b[0m                     \u001b[1;31m# used.\u001b[0m\u001b[1;33m\u001b[0m\u001b[1;33m\u001b[0m\u001b[1;33m\u001b[0m\u001b[0m\n\u001b[0;32m    896\u001b[0m                     \u001b[1;32mpass\u001b[0m\u001b[1;33m\u001b[0m\u001b[1;33m\u001b[0m\u001b[0m\n\u001b[1;32m--> 897\u001b[1;33m         \u001b[1;32mreturn\u001b[0m \u001b[0mcomplexjson\u001b[0m\u001b[1;33m.\u001b[0m\u001b[0mloads\u001b[0m\u001b[1;33m(\u001b[0m\u001b[0mself\u001b[0m\u001b[1;33m.\u001b[0m\u001b[0mtext\u001b[0m\u001b[1;33m,\u001b[0m \u001b[1;33m**\u001b[0m\u001b[0mkwargs\u001b[0m\u001b[1;33m)\u001b[0m\u001b[1;33m\u001b[0m\u001b[1;33m\u001b[0m\u001b[0m\n\u001b[0m\u001b[0;32m    898\u001b[0m \u001b[1;33m\u001b[0m\u001b[0m\n\u001b[0;32m    899\u001b[0m     \u001b[1;33m@\u001b[0m\u001b[0mproperty\u001b[0m\u001b[1;33m\u001b[0m\u001b[1;33m\u001b[0m\u001b[0m\n",
      "\u001b[1;32m~\\Anaconda3\\lib\\json\\__init__.py\u001b[0m in \u001b[0;36mloads\u001b[1;34m(s, encoding, cls, object_hook, parse_float, parse_int, parse_constant, object_pairs_hook, **kw)\u001b[0m\n\u001b[0;32m    346\u001b[0m             \u001b[0mparse_int\u001b[0m \u001b[1;32mis\u001b[0m \u001b[1;32mNone\u001b[0m \u001b[1;32mand\u001b[0m \u001b[0mparse_float\u001b[0m \u001b[1;32mis\u001b[0m \u001b[1;32mNone\u001b[0m \u001b[1;32mand\u001b[0m\u001b[1;33m\u001b[0m\u001b[1;33m\u001b[0m\u001b[0m\n\u001b[0;32m    347\u001b[0m             parse_constant is None and object_pairs_hook is None and not kw):\n\u001b[1;32m--> 348\u001b[1;33m         \u001b[1;32mreturn\u001b[0m \u001b[0m_default_decoder\u001b[0m\u001b[1;33m.\u001b[0m\u001b[0mdecode\u001b[0m\u001b[1;33m(\u001b[0m\u001b[0ms\u001b[0m\u001b[1;33m)\u001b[0m\u001b[1;33m\u001b[0m\u001b[1;33m\u001b[0m\u001b[0m\n\u001b[0m\u001b[0;32m    349\u001b[0m     \u001b[1;32mif\u001b[0m \u001b[0mcls\u001b[0m \u001b[1;32mis\u001b[0m \u001b[1;32mNone\u001b[0m\u001b[1;33m:\u001b[0m\u001b[1;33m\u001b[0m\u001b[1;33m\u001b[0m\u001b[0m\n\u001b[0;32m    350\u001b[0m         \u001b[0mcls\u001b[0m \u001b[1;33m=\u001b[0m \u001b[0mJSONDecoder\u001b[0m\u001b[1;33m\u001b[0m\u001b[1;33m\u001b[0m\u001b[0m\n",
      "\u001b[1;32m~\\Anaconda3\\lib\\json\\decoder.py\u001b[0m in \u001b[0;36mdecode\u001b[1;34m(self, s, _w)\u001b[0m\n\u001b[0;32m    335\u001b[0m \u001b[1;33m\u001b[0m\u001b[0m\n\u001b[0;32m    336\u001b[0m         \"\"\"\n\u001b[1;32m--> 337\u001b[1;33m         \u001b[0mobj\u001b[0m\u001b[1;33m,\u001b[0m \u001b[0mend\u001b[0m \u001b[1;33m=\u001b[0m \u001b[0mself\u001b[0m\u001b[1;33m.\u001b[0m\u001b[0mraw_decode\u001b[0m\u001b[1;33m(\u001b[0m\u001b[0ms\u001b[0m\u001b[1;33m,\u001b[0m \u001b[0midx\u001b[0m\u001b[1;33m=\u001b[0m\u001b[0m_w\u001b[0m\u001b[1;33m(\u001b[0m\u001b[0ms\u001b[0m\u001b[1;33m,\u001b[0m \u001b[1;36m0\u001b[0m\u001b[1;33m)\u001b[0m\u001b[1;33m.\u001b[0m\u001b[0mend\u001b[0m\u001b[1;33m(\u001b[0m\u001b[1;33m)\u001b[0m\u001b[1;33m)\u001b[0m\u001b[1;33m\u001b[0m\u001b[1;33m\u001b[0m\u001b[0m\n\u001b[0m\u001b[0;32m    338\u001b[0m         \u001b[0mend\u001b[0m \u001b[1;33m=\u001b[0m \u001b[0m_w\u001b[0m\u001b[1;33m(\u001b[0m\u001b[0ms\u001b[0m\u001b[1;33m,\u001b[0m \u001b[0mend\u001b[0m\u001b[1;33m)\u001b[0m\u001b[1;33m.\u001b[0m\u001b[0mend\u001b[0m\u001b[1;33m(\u001b[0m\u001b[1;33m)\u001b[0m\u001b[1;33m\u001b[0m\u001b[1;33m\u001b[0m\u001b[0m\n\u001b[0;32m    339\u001b[0m         \u001b[1;32mif\u001b[0m \u001b[0mend\u001b[0m \u001b[1;33m!=\u001b[0m \u001b[0mlen\u001b[0m\u001b[1;33m(\u001b[0m\u001b[0ms\u001b[0m\u001b[1;33m)\u001b[0m\u001b[1;33m:\u001b[0m\u001b[1;33m\u001b[0m\u001b[1;33m\u001b[0m\u001b[0m\n",
      "\u001b[1;32m~\\Anaconda3\\lib\\json\\decoder.py\u001b[0m in \u001b[0;36mraw_decode\u001b[1;34m(self, s, idx)\u001b[0m\n\u001b[0;32m    353\u001b[0m             \u001b[0mobj\u001b[0m\u001b[1;33m,\u001b[0m \u001b[0mend\u001b[0m \u001b[1;33m=\u001b[0m \u001b[0mself\u001b[0m\u001b[1;33m.\u001b[0m\u001b[0mscan_once\u001b[0m\u001b[1;33m(\u001b[0m\u001b[0ms\u001b[0m\u001b[1;33m,\u001b[0m \u001b[0midx\u001b[0m\u001b[1;33m)\u001b[0m\u001b[1;33m\u001b[0m\u001b[1;33m\u001b[0m\u001b[0m\n\u001b[0;32m    354\u001b[0m         \u001b[1;32mexcept\u001b[0m \u001b[0mStopIteration\u001b[0m \u001b[1;32mas\u001b[0m \u001b[0merr\u001b[0m\u001b[1;33m:\u001b[0m\u001b[1;33m\u001b[0m\u001b[1;33m\u001b[0m\u001b[0m\n\u001b[1;32m--> 355\u001b[1;33m             \u001b[1;32mraise\u001b[0m \u001b[0mJSONDecodeError\u001b[0m\u001b[1;33m(\u001b[0m\u001b[1;34m\"Expecting value\"\u001b[0m\u001b[1;33m,\u001b[0m \u001b[0ms\u001b[0m\u001b[1;33m,\u001b[0m \u001b[0merr\u001b[0m\u001b[1;33m.\u001b[0m\u001b[0mvalue\u001b[0m\u001b[1;33m)\u001b[0m \u001b[1;32mfrom\u001b[0m \u001b[1;32mNone\u001b[0m\u001b[1;33m\u001b[0m\u001b[1;33m\u001b[0m\u001b[0m\n\u001b[0m\u001b[0;32m    356\u001b[0m         \u001b[1;32mreturn\u001b[0m \u001b[0mobj\u001b[0m\u001b[1;33m,\u001b[0m \u001b[0mend\u001b[0m\u001b[1;33m\u001b[0m\u001b[1;33m\u001b[0m\u001b[0m\n",
      "\u001b[1;31mJSONDecodeError\u001b[0m: Expecting value: line 1 column 1 (char 0)"
     ]
    }
   ],
   "source": [
    "url = \"http://www.omdbapi.com//?i=\"\n",
    "api = f\"&apikey={api_key}\"\n",
    "\n",
    "omdb_data = []\n",
    "for id_ in tqdm_notebook(imdb_id_df):\n",
    "    response = requests.get(url + id_+api).json()\n",
    "    director = response['Director']\n",
    "    actors = response['Actors']\n",
    "    writers = response['Writer']\n",
    "    rating = response['Rated']\n",
    "    awards = response['Awards']\n",
    "    omdb_data.append({'imdb_id': id_,\n",
    "                      'director' : director,\n",
    "                      'actors' : actors,\n",
    "                      'writers' : writers,\n",
    "                      'rated' : rating,\n",
    "                      'awards' : awards})\n",
    "    #print(response['Director'])"
   ]
  },
  {
   "cell_type": "code",
   "execution_count": null,
   "metadata": {},
   "outputs": [],
   "source": [
    "actor_data = []\n",
    "director_data = []\n",
    "writer_data = []\n",
    "rating_data = []\n",
    "awards_data = []\n",
    "\n",
    "array_length = len(omdb_data)\n",
    "for i in range(array_length):\n",
    "    actor_data.append({'imdb_id': omdb_data[i]['imdb_id'],\n",
    "                       'actors' : omdb_data[i]['actors'].split(',')})\n",
    "    director_data.append({'imdb_id': omdb_data[i]['imdb_id'],\n",
    "                       'directors' : omdb_data[i]['director'].split(',')})\n",
    "    writer_data.append({'imdb_id': omdb_data[i]['imdb_id'],\n",
    "                       'writers' : omdb_data[i]['writers'].split(',')})\n",
    "    rating_data.append({'imdb_id': omdb_data[i]['imdb_id'],\n",
    "                       'rated' : omdb_data[i]['rated']})\n",
    "    awards_data.append({'imdb_id': omdb_data[i]['imdb_id'],\n",
    "                       'awards' : omdb_data[i]['awards']})\n",
    "\n",
    "        "
   ]
  },
  {
   "cell_type": "code",
   "execution_count": null,
   "metadata": {},
   "outputs": [],
   "source": [
    "actor_data_df = pd.DataFrame(actor_data)\n",
    "director_data_df = pd.DataFrame(director_data)\n",
    "writer_data_df = pd.DataFrame(writer_data)\n",
    "rating_data_df = pd.DataFrame(rating_data)\n",
    "awards_data_df = pd.DataFrame(awards_data)"
   ]
  },
  {
   "cell_type": "code",
   "execution_count": null,
   "metadata": {},
   "outputs": [],
   "source": [
    "film_actor_df = actor_data_df.set_index(['imdb_id'])['actors'].apply(pd.Series).stack()\n",
    "film_actor_df = film_actor_df.reset_index()\n",
    "film_actor_df = film_actor_df.drop('level_1', axis=1)\n",
    "film_actor_df.columns = ['imdb_id','actor']\n",
    "film_actor_id_df = film_actor_df\n",
    "actor_id = film_actor_id_df.groupby('actor').ngroup()\n",
    "film_actor_id_df['actor_id'] = actor_id\n",
    "film_actor_id_df['actor_id'] = 'a' + film_actor_df['actor_id'].astype(str)\n",
    "film_actor_id_df = film_actor_df.drop(['actor'], axis=1)\n",
    "\n",
    "\n",
    "film_director_df = director_data_df.set_index(['imdb_id'])['directors'].apply(pd.Series).stack()\n",
    "film_director_df = film_director_df.reset_index()\n",
    "film_director_df = film_director_df.drop('level_1', axis=1)\n",
    "film_director_df.columns = ['imdb_id','directors']\n",
    "film_director_id_df = film_director_df\n",
    "director_id = film_director_id_df.groupby('directors').ngroup()\n",
    "film_director_id_df['director_id'] = director_id\n",
    "film_director_id_df['director_id'] = 'd' + film_director_df['director_id'].astype(str)\n",
    "film_director_id_df = film_director_df.drop(['directors'], axis=1)\n",
    "\n",
    "film_writer_df = writer_data_df.set_index(['imdb_id'])['writers'].apply(pd.Series).stack()\n",
    "film_writer_df = film_writer_df.reset_index()\n",
    "film_writer_df = film_writer_df.drop('level_1', axis=1)\n",
    "film_writer_df.columns = ['imdb_id','writers']\n",
    "film_writer_id_df = film_writer_df\n",
    "writer_id = film_writer_id_df.groupby('writers').ngroup()\n",
    "film_writer_id_df['writer_id'] = writer_id\n",
    "film_writer_id_df['writer_id'] = 'w' + film_writer_df['writer_id'].astype(str)\n",
    "film_writer_id_df = film_writer_df.drop(['writers'], axis=1)"
   ]
  },
  {
   "cell_type": "code",
   "execution_count": null,
   "metadata": {},
   "outputs": [],
   "source": [
    "actor_df = film_actor_df.drop(['imdb_id'], axis=1)\n",
    "actor_df.drop_duplicates(subset =\"actor_id\", keep = 'first', inplace = True) \n",
    "\n",
    "for index, row in tqdm_notebook(list(actor_df.iterrows())):\n",
    "    if len(actor_df.loc[index]['actor'].split()) == 1:\n",
    "        actor_df.loc[index, 'first_name'] = actor_df.loc[index, 'actor']\n",
    "        actor_df.loc[index, 'last_name'] = np.nan\n",
    "    else:\n",
    "        actor_df.loc[index, 'first_name'] = actor_df.loc[index, 'actor'].rsplit(' ', 1)[0]\n",
    "        actor_df.loc[index, 'last_name'] = actor_df.loc[index, 'actor'].split()[-1]\n",
    "actor_df = actor_df.drop(['actor'], axis=1)"
   ]
  },
  {
   "cell_type": "code",
   "execution_count": null,
   "metadata": {},
   "outputs": [],
   "source": [
    "director_df = film_director_df.drop(['imdb_id'], axis=1)\n",
    "director_df.drop_duplicates(subset =\"director_id\", keep = 'first', inplace = True) \n",
    "\n",
    "for index, row in tqdm_notebook(list(director_df.iterrows())):\n",
    "    if len(director_df.loc[index]['directors'].split()) == 1:\n",
    "        director_df.loc[index, 'first_name'] = director_df.loc[index, 'directors']\n",
    "        director_df.loc[index, 'last_name'] = np.nan\n",
    "    else:\n",
    "        director_df.loc[index, 'first_name'] = director_df.loc[index, 'directors'].rsplit(' ', 1)[0]\n",
    "        director_df.loc[index, 'last_name'] = director_df.loc[index, 'directors'].split()[-1]\n",
    "director_df = director_df.drop(['directors'], axis=1)"
   ]
  },
  {
   "cell_type": "code",
   "execution_count": null,
   "metadata": {},
   "outputs": [],
   "source": [
    "writer_df = film_writer_df.drop(['imdb_id'], axis=1)\n",
    "writer_df.drop_duplicates(subset =\"writer_id\", keep = 'first', inplace = True) \n",
    "\n",
    "for index, row in tqdm_notebook(list(writer_df.iterrows())):\n",
    "    writer_df.loc[index, 'writers'] = writer_df.loc[index]['writers'].split(' (')[0]\n",
    "    if len(writer_df.loc[index]['writers'].split()) == 1:\n",
    "        writer_df.loc[index, 'first_name'] = writer_df.loc[index, 'writers']\n",
    "        writer_df.loc[index, 'last_name'] = np.nan\n",
    "    else:\n",
    "        writer_df.loc[index, 'first_name'] = writer_df.loc[index, 'writers'].rsplit(' ', 1)[0]\n",
    "        writer_df.loc[index, 'last_name'] = writer_df.loc[index, 'writers'].split()[-1]\n",
    "writer_df = writer_df.drop(['writers'], axis=1)"
   ]
  },
  {
   "cell_type": "code",
   "execution_count": null,
   "metadata": {},
   "outputs": [],
   "source": [
    "rds_connection_string = \"postgres:password@localhost:5432/OMDB_Data_db\"\n",
    "engine = create_engine(f'postgresql://{rds_connection_string}')\n",
    "engine.table_names()"
   ]
  },
  {
   "cell_type": "code",
   "execution_count": null,
   "metadata": {},
   "outputs": [],
   "source": [
    "test_df.to_sql(name='movie', con=engine, if_exists='append', index=False)\n",
    "actor_df.to_sql(name='actor', con=engine, if_exists='append', index=False)\n",
    "director_df.to_sql(name='director', con=engine, if_exists='append', index=False)\n",
    "writer_df.to_sql(name='writer', con=engine, if_exists='append', index=False)\n",
    "film_actor_id_df.to_sql(name='film_actor', con=engine, if_exists='append', index=False)\n",
    "film_director_id_df.to_sql(name='film_director', con=engine, if_exists='append', index=False)\n",
    "film_writer_id_df.to_sql(name='film_writer', con=engine, if_exists='append', index=False)\n",
    "#rating_data_df.to_sql(name='movie', con=engine, if_exists='append', index=False)\n",
    "#awards_data_df.to_sql(name='awards', con=engine, if_exists='append', index=False)"
   ]
  },
  {
   "cell_type": "code",
   "execution_count": null,
   "metadata": {},
   "outputs": [],
   "source": []
  },
  {
   "cell_type": "code",
   "execution_count": null,
   "metadata": {},
   "outputs": [],
   "source": []
  }
 ],
 "metadata": {
  "kernelspec": {
   "display_name": "Python 3",
   "language": "python",
   "name": "python3"
  },
  "language_info": {
   "codemirror_mode": {
    "name": "ipython",
    "version": 3
   },
   "file_extension": ".py",
   "mimetype": "text/x-python",
   "name": "python",
   "nbconvert_exporter": "python",
   "pygments_lexer": "ipython3",
   "version": "3.7.3"
  }
 },
 "nbformat": 4,
 "nbformat_minor": 2
}
