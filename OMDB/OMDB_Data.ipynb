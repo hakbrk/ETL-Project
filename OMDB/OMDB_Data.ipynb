{
 "cells": [
  {
   "cell_type": "code",
   "execution_count": 1,
   "metadata": {},
   "outputs": [],
   "source": [
    "import pandas as pd\n",
    "import requests\n",
    "from tqdm import tqdm_notebook\n",
    "import json\n",
    "from api_keys import api_key\n",
    "import os\n",
    "from sqlalchemy import create_engine\n",
    "import numpy as np"
   ]
  },
  {
   "cell_type": "markdown",
   "metadata": {},
   "source": [
    "Import csv of imdb_id's"
   ]
  },
  {
   "cell_type": "code",
   "execution_count": 2,
   "metadata": {},
   "outputs": [],
   "source": [
    "imdb_data = \"../unique_indmID.csv\"\n",
    "imdb_id = pd.read_csv(imdb_data,skiprows=[1], low_memory=False)"
   ]
  },
  {
   "cell_type": "markdown",
   "metadata": {},
   "source": [
    "View data"
   ]
  },
  {
   "cell_type": "code",
   "execution_count": 3,
   "metadata": {},
   "outputs": [],
   "source": [
    "imdb_id = imdb_id['imdb_id']"
   ]
  },
  {
   "cell_type": "markdown",
   "metadata": {},
   "source": [
    "Create functions to parse data as API calls are made.  By doing this it reduces the need for itterows or additional for loops later in the code."
   ]
  },
  {
   "cell_type": "code",
   "execution_count": 4,
   "metadata": {},
   "outputs": [],
   "source": [
    "def writer_list(writer, imdb):\n",
    "    final_list = []\n",
    "    name_list = writer.split(',')\n",
    "    for index in name_list:\n",
    "        name = index.split(' (')[0]\n",
    "        final_list.append({'imdb_id' : imdb,\n",
    "                         'first_name' : name.rsplit(' ', 1)[0],\n",
    "                         'last_name' : name.split()[-1]})\n",
    "    return final_list"
   ]
  },
  {
   "cell_type": "code",
   "execution_count": 5,
   "metadata": {},
   "outputs": [],
   "source": [
    "def process_list(name_string, imdb):\n",
    "    final_list = []\n",
    "    name_list = name_string.split(',')\n",
    "    for index in name_list:\n",
    "        final_list.append({'imdb_id' : imdb,\n",
    "                               'first_name' : index.rsplit(' ', 1)[0],\n",
    "                               'last_name' : index.split()[-1]})\n",
    "    return final_list"
   ]
  },
  {
   "cell_type": "markdown",
   "metadata": {},
   "source": [
    "API calls and parsing by use of functions"
   ]
  },
  {
   "cell_type": "code",
   "execution_count": 6,
   "metadata": {
    "scrolled": true
   },
   "outputs": [
    {
     "data": {
      "application/vnd.jupyter.widget-view+json": {
       "model_id": "5c370b5357be4f7faa93e4c472887fb4",
       "version_major": 2,
       "version_minor": 0
      },
      "text/plain": [
       "HBox(children=(IntProgress(value=0, max=45415), HTML(value='')))"
      ]
     },
     "metadata": {},
     "output_type": "display_data"
    },
    {
     "name": "stdout",
     "output_type": "stream",
     "text": [
      "KeyError at tt1628842\n",
      "KeyError at tt2697688\n",
      "\n"
     ]
    }
   ],
   "source": [
    "url = \"http://www.omdbapi.com//?i=\"\n",
    "api = f\"&apikey={api_key}\"\n",
    "actor_data = []\n",
    "director_data = []\n",
    "writer_data = []\n",
    "\n",
    "for id_ in tqdm_notebook(imdb_id):\n",
    "    try:\n",
    "        response = requests.get(url + id_+api).json()\n",
    "    except JSONDecodeError:\n",
    "        print(f'error at {id_}')\n",
    "        response = requests.get(url + id_+api).json()\n",
    "    try:\n",
    "        director = response['Director']\n",
    "        temp_list = process_list(director, id_)\n",
    "        for item in temp_list:\n",
    "             director_data.append(item)\n",
    "        actor = response['Actors']\n",
    "        temp_list = process_list(actor, id_)\n",
    "        for item in temp_list:\n",
    "             actor_data.append(item)\n",
    "        writer = response['Writer']\n",
    "        temp_list = writer_list(writer, id_)\n",
    "        for item in temp_list:\n",
    "             writer_data.append(item)\n",
    "    except KeyError:\n",
    "        print(f'KeyError at {id_}')\n",
    "        director_data.append({'imdb_id' : id_,\n",
    "                         'first_name' : 'No Data',\n",
    "                         'last_name' : 'No Data'})\n",
    "        actor_data.append({'imdb_id' : id_,\n",
    "                         'first_name' : 'No Data',\n",
    "                         'last_name' : 'No Data'})\n",
    "        writer_data.append({'imdb_id' : id_,\n",
    "                         'first_name' : 'No Data',\n",
    "                         'last_name' : 'No Data'})"
   ]
  },
  {
   "cell_type": "markdown",
   "metadata": {},
   "source": [
    "Convert list of dictionaries to DataFrames"
   ]
  },
  {
   "cell_type": "code",
   "execution_count": null,
   "metadata": {},
   "outputs": [
    {
     "data": {
      "application/vnd.jupyter.widget-view+json": {
       "model_id": "7f3a78e375a445578ff97a4f56f8231b",
       "version_major": 2,
       "version_minor": 0
      },
      "text/plain": [
       "HBox(children=(IntProgress(value=0, max=45415), HTML(value='')))"
      ]
     },
     "metadata": {},
     "output_type": "display_data"
    }
   ],
   "source": [
    "ratings_data = []\n",
    "awards_data = []\n",
    "\n",
    "for id_ in tqdm_notebook(imdb_id):\n",
    "    try:\n",
    "        response = requests.get(url + id_+api).json()\n",
    "    except JSONDecodeError:\n",
    "        print(f'error at {id_}')\n",
    "        response = requests.get(url + id_+api).json()\n",
    "    try:\n",
    "        rating = response['Rated']\n",
    "        ratings_data.append({'imdb_id' : id_,\n",
    "                             'ratings' : rating})\n",
    "        award = response['Awards']\n",
    "        awards_data.append({'imdb_id' : id_,\n",
    "                            'awards' : award})\n",
    "    except KeyError:\n",
    "        print(f'KeyError at {id_}')\n",
    "        awards_data.append({'imdb_id' : id_,\n",
    "                            'awards' : 'No Data'})\n",
    "        ratings_data.append({'imdb_id' : id_,\n",
    "                             'ratings' : 'No Data'})\n",
    "    "
   ]
  },
  {
   "cell_type": "code",
   "execution_count": 7,
   "metadata": {},
   "outputs": [],
   "source": [
    "#actor_all_df = pd.DataFrame(actor_data)\n",
    "#writer_all_df = pd.DataFrame(writer_data)\n",
    "#director_all_df = pd.DataFrame(director_data)\n",
    "ratings_all_df = pd.DataFrame(ratings_data)\n",
    "awards_all_df = pd.DataFrame(awards_data)"
   ]
  },
  {
   "cell_type": "markdown",
   "metadata": {},
   "source": [
    "Replace blanks left by individuals with only one name."
   ]
  },
  {
   "cell_type": "code",
   "execution_count": 8,
   "metadata": {},
   "outputs": [],
   "source": [
    "actor_all_df.replace('', 'N/A', inplace = True)\n",
    "writer_all_df.replace('', 'N/A', inplace = True)\n",
    "director_all_df.replace('', 'N/A', inplace = True)"
   ]
  },
  {
   "cell_type": "markdown",
   "metadata": {},
   "source": [
    "Create individual DataFrames which will then be pushed to the database as tables."
   ]
  },
  {
   "cell_type": "code",
   "execution_count": 29,
   "metadata": {},
   "outputs": [],
   "source": [
    "film_actor_id_df = actor_all_df\n",
    "actor_id = film_actor_id_df.groupby(['last_name', 'first_name']).ngroup()\n",
    "film_actor_id_df['actor_id'] = actor_id\n",
    "film_actor_id_df['actor_id'] = 'a' + film_actor_id_df['actor_id'].astype(str)\n",
    "film_actor_df = film_actor_id_df.drop(['first_name', 'last_name'], axis=1)\n",
    "film_actor_df.drop_duplicates(subset=['imdb_id', 'actor_id'], inplace = True)\n",
    "actor_df = film_actor_id_df.drop(['imdb_id'], axis=1)\n",
    "actor_df.drop_duplicates(subset='actor_id', inplace = True)"
   ]
  },
  {
   "cell_type": "code",
   "execution_count": 24,
   "metadata": {},
   "outputs": [],
   "source": [
    "film_writer_id_df = writer_all_df\n",
    "writer_id = film_writer_id_df.groupby(['last_name', 'first_name']).ngroup()\n",
    "film_writer_id_df['writer_id'] = writer_id\n",
    "film_writer_id_df['writer_id'] = 'w' + film_writer_id_df['writer_id'].astype(str)\n",
    "film_writer_df = film_writer_id_df.drop(['first_name', 'last_name'], axis=1)\n",
    "film_writer_df.drop_duplicates(subset=['imdb_id', 'writer_id'], inplace = True)\n",
    "writer_df = film_writer_id_df.drop(['imdb_id'], axis=1)\n",
    "writer_df.drop_duplicates(subset='writer_id', inplace = True)"
   ]
  },
  {
   "cell_type": "code",
   "execution_count": 32,
   "metadata": {},
   "outputs": [],
   "source": [
    "film_director_id_df = director_all_df\n",
    "director_id = film_director_id_df.groupby(['last_name', 'first_name']).ngroup()\n",
    "film_director_id_df['director_id'] = director_id\n",
    "film_director_id_df['director_id'] = 'd' + film_director_id_df['director_id'].astype(str)\n",
    "film_director_df = film_director_id_df.drop(['first_name', 'last_name'], axis=1)\n",
    "film_director_df.drop_duplicates(subset=['imdb_id', 'director_id'], inplace = True)\n",
    "director_df = film_director_id_df.drop(['imdb_id'], axis=1)\n",
    "director_df.drop_duplicates(subset='director_id', inplace = True)"
   ]
  },
  {
   "cell_type": "markdown",
   "metadata": {},
   "source": [
    "Confirm table structure and headers"
   ]
  },
  {
   "cell_type": "code",
   "execution_count": 39,
   "metadata": {},
   "outputs": [
    {
     "data": {
      "text/html": [
       "<div>\n",
       "<style scoped>\n",
       "    .dataframe tbody tr th:only-of-type {\n",
       "        vertical-align: middle;\n",
       "    }\n",
       "\n",
       "    .dataframe tbody tr th {\n",
       "        vertical-align: top;\n",
       "    }\n",
       "\n",
       "    .dataframe thead th {\n",
       "        text-align: right;\n",
       "    }\n",
       "</style>\n",
       "<table border=\"1\" class=\"dataframe\">\n",
       "  <thead>\n",
       "    <tr style=\"text-align: right;\">\n",
       "      <th></th>\n",
       "      <th>imdb_id</th>\n",
       "      <th>actor_id</th>\n",
       "    </tr>\n",
       "  </thead>\n",
       "  <tbody>\n",
       "    <tr>\n",
       "      <th>0</th>\n",
       "      <td>tt0113497</td>\n",
       "      <td>a81066</td>\n",
       "    </tr>\n",
       "  </tbody>\n",
       "</table>\n",
       "</div>"
      ],
      "text/plain": [
       "     imdb_id actor_id\n",
       "0  tt0113497   a81066"
      ]
     },
     "execution_count": 39,
     "metadata": {},
     "output_type": "execute_result"
    }
   ],
   "source": [
    "film_actor_df.head(1)"
   ]
  },
  {
   "cell_type": "code",
   "execution_count": 40,
   "metadata": {},
   "outputs": [
    {
     "data": {
      "text/html": [
       "<div>\n",
       "<style scoped>\n",
       "    .dataframe tbody tr th:only-of-type {\n",
       "        vertical-align: middle;\n",
       "    }\n",
       "\n",
       "    .dataframe tbody tr th {\n",
       "        vertical-align: top;\n",
       "    }\n",
       "\n",
       "    .dataframe thead th {\n",
       "        text-align: right;\n",
       "    }\n",
       "</style>\n",
       "<table border=\"1\" class=\"dataframe\">\n",
       "  <thead>\n",
       "    <tr style=\"text-align: right;\">\n",
       "      <th></th>\n",
       "      <th>first_name</th>\n",
       "      <th>last_name</th>\n",
       "      <th>actor_id</th>\n",
       "    </tr>\n",
       "  </thead>\n",
       "  <tbody>\n",
       "    <tr>\n",
       "      <th>0</th>\n",
       "      <td>Robin</td>\n",
       "      <td>Williams</td>\n",
       "      <td>a81066</td>\n",
       "    </tr>\n",
       "  </tbody>\n",
       "</table>\n",
       "</div>"
      ],
      "text/plain": [
       "  first_name last_name actor_id\n",
       "0      Robin  Williams   a81066"
      ]
     },
     "execution_count": 40,
     "metadata": {},
     "output_type": "execute_result"
    }
   ],
   "source": [
    "actor_df.head(1)"
   ]
  },
  {
   "cell_type": "code",
   "execution_count": 42,
   "metadata": {},
   "outputs": [
    {
     "data": {
      "text/html": [
       "<div>\n",
       "<style scoped>\n",
       "    .dataframe tbody tr th:only-of-type {\n",
       "        vertical-align: middle;\n",
       "    }\n",
       "\n",
       "    .dataframe tbody tr th {\n",
       "        vertical-align: top;\n",
       "    }\n",
       "\n",
       "    .dataframe thead th {\n",
       "        text-align: right;\n",
       "    }\n",
       "</style>\n",
       "<table border=\"1\" class=\"dataframe\">\n",
       "  <thead>\n",
       "    <tr style=\"text-align: right;\">\n",
       "      <th></th>\n",
       "      <th>imdb_id</th>\n",
       "      <th>writer_id</th>\n",
       "    </tr>\n",
       "  </thead>\n",
       "  <tbody>\n",
       "    <tr>\n",
       "      <th>0</th>\n",
       "      <td>tt0113497</td>\n",
       "      <td>w20063</td>\n",
       "    </tr>\n",
       "  </tbody>\n",
       "</table>\n",
       "</div>"
      ],
      "text/plain": [
       "     imdb_id writer_id\n",
       "0  tt0113497    w20063"
      ]
     },
     "execution_count": 42,
     "metadata": {},
     "output_type": "execute_result"
    }
   ],
   "source": [
    "film_writer_df.head(1)"
   ]
  },
  {
   "cell_type": "code",
   "execution_count": 43,
   "metadata": {},
   "outputs": [
    {
     "data": {
      "text/html": [
       "<div>\n",
       "<style scoped>\n",
       "    .dataframe tbody tr th:only-of-type {\n",
       "        vertical-align: middle;\n",
       "    }\n",
       "\n",
       "    .dataframe tbody tr th {\n",
       "        vertical-align: top;\n",
       "    }\n",
       "\n",
       "    .dataframe thead th {\n",
       "        text-align: right;\n",
       "    }\n",
       "</style>\n",
       "<table border=\"1\" class=\"dataframe\">\n",
       "  <thead>\n",
       "    <tr style=\"text-align: right;\">\n",
       "      <th></th>\n",
       "      <th>first_name</th>\n",
       "      <th>last_name</th>\n",
       "      <th>writer_id</th>\n",
       "    </tr>\n",
       "  </thead>\n",
       "  <tbody>\n",
       "    <tr>\n",
       "      <th>0</th>\n",
       "      <td>Jonathan</td>\n",
       "      <td>Hensleigh</td>\n",
       "      <td>w20063</td>\n",
       "    </tr>\n",
       "  </tbody>\n",
       "</table>\n",
       "</div>"
      ],
      "text/plain": [
       "  first_name  last_name writer_id\n",
       "0   Jonathan  Hensleigh    w20063"
      ]
     },
     "execution_count": 43,
     "metadata": {},
     "output_type": "execute_result"
    }
   ],
   "source": [
    "writer_df.head(1)"
   ]
  },
  {
   "cell_type": "code",
   "execution_count": 44,
   "metadata": {},
   "outputs": [
    {
     "data": {
      "text/html": [
       "<div>\n",
       "<style scoped>\n",
       "    .dataframe tbody tr th:only-of-type {\n",
       "        vertical-align: middle;\n",
       "    }\n",
       "\n",
       "    .dataframe tbody tr th {\n",
       "        vertical-align: top;\n",
       "    }\n",
       "\n",
       "    .dataframe thead th {\n",
       "        text-align: right;\n",
       "    }\n",
       "</style>\n",
       "<table border=\"1\" class=\"dataframe\">\n",
       "  <thead>\n",
       "    <tr style=\"text-align: right;\">\n",
       "      <th></th>\n",
       "      <th>imdb_id</th>\n",
       "      <th>director_id</th>\n",
       "    </tr>\n",
       "  </thead>\n",
       "  <tbody>\n",
       "    <tr>\n",
       "      <th>0</th>\n",
       "      <td>tt0113497</td>\n",
       "      <td>d9185</td>\n",
       "    </tr>\n",
       "  </tbody>\n",
       "</table>\n",
       "</div>"
      ],
      "text/plain": [
       "     imdb_id director_id\n",
       "0  tt0113497       d9185"
      ]
     },
     "execution_count": 44,
     "metadata": {},
     "output_type": "execute_result"
    }
   ],
   "source": [
    "film_director_df.head(1)"
   ]
  },
  {
   "cell_type": "code",
   "execution_count": 45,
   "metadata": {},
   "outputs": [
    {
     "data": {
      "text/html": [
       "<div>\n",
       "<style scoped>\n",
       "    .dataframe tbody tr th:only-of-type {\n",
       "        vertical-align: middle;\n",
       "    }\n",
       "\n",
       "    .dataframe tbody tr th {\n",
       "        vertical-align: top;\n",
       "    }\n",
       "\n",
       "    .dataframe thead th {\n",
       "        text-align: right;\n",
       "    }\n",
       "</style>\n",
       "<table border=\"1\" class=\"dataframe\">\n",
       "  <thead>\n",
       "    <tr style=\"text-align: right;\">\n",
       "      <th></th>\n",
       "      <th>first_name</th>\n",
       "      <th>last_name</th>\n",
       "      <th>director_id</th>\n",
       "    </tr>\n",
       "  </thead>\n",
       "  <tbody>\n",
       "    <tr>\n",
       "      <th>0</th>\n",
       "      <td>Joe</td>\n",
       "      <td>Johnston</td>\n",
       "      <td>d9185</td>\n",
       "    </tr>\n",
       "  </tbody>\n",
       "</table>\n",
       "</div>"
      ],
      "text/plain": [
       "  first_name last_name director_id\n",
       "0        Joe  Johnston       d9185"
      ]
     },
     "execution_count": 45,
     "metadata": {},
     "output_type": "execute_result"
    }
   ],
   "source": [
    "director_df.head(1)"
   ]
  },
  {
   "cell_type": "markdown",
   "metadata": {},
   "source": [
    "Initiate connection to database and verify tables present in database"
   ]
  },
  {
   "cell_type": "code",
   "execution_count": 37,
   "metadata": {},
   "outputs": [
    {
     "data": {
      "text/plain": [
       "['movie',\n",
       " 'film_actor',\n",
       " 'actor',\n",
       " 'spoken_language',\n",
       " 'film_spoken_language',\n",
       " 'genre',\n",
       " 'film_genre',\n",
       " 'production_company',\n",
       " 'film_production_company',\n",
       " 'writer',\n",
       " 'film_writer',\n",
       " 'director',\n",
       " 'film_director',\n",
       " 'country',\n",
       " 'film_country',\n",
       " 'collection',\n",
       " 'w_collec']"
      ]
     },
     "execution_count": 37,
     "metadata": {},
     "output_type": "execute_result"
    }
   ],
   "source": [
    "rds_connection_string = \"postgres:password@localhost:5432/movies_db\"\n",
    "engine = create_engine(f'postgresql://{rds_connection_string}')\n",
    "engine.table_names()"
   ]
  },
  {
   "cell_type": "markdown",
   "metadata": {},
   "source": [
    "Push DataFrames to the database as tables"
   ]
  },
  {
   "cell_type": "code",
   "execution_count": 38,
   "metadata": {},
   "outputs": [],
   "source": [
    "actor_df.to_sql(name='actor', con=engine, if_exists='append', index=False)\n",
    "director_df.to_sql(name='director', con=engine, if_exists='append', index=False)\n",
    "writer_df.to_sql(name='writer', con=engine, if_exists='append', index=False)\n",
    "film_actor_df.to_sql(name='film_actor', con=engine, if_exists='append', index=False)\n",
    "film_director_df.to_sql(name='film_director', con=engine, if_exists='append', index=False)\n",
    "film_writer_df.to_sql(name='film_writer', con=engine, if_exists='append', index=False)"
   ]
  },
  {
   "cell_type": "markdown",
   "metadata": {},
   "source": [
    "Create csv files for later use if needed."
   ]
  },
  {
   "cell_type": "code",
   "execution_count": 47,
   "metadata": {},
   "outputs": [],
   "source": [
    "actor_df.to_csv('actor_df.csv', index=False)\n",
    "director_df.to_csv('director_df.csv', index=False)\n",
    "writer_df.to_csv('writer_df.csv', index=False)\n",
    "film_actor_df.to_csv('film_actor_df.csv', index=False)\n",
    "film_director_df.to_csv('film_director_df.csv', index=False)\n",
    "film_writer_df.to_csv('film_writer_df.csv', index=False)"
   ]
  },
  {
   "cell_type": "code",
   "execution_count": null,
   "metadata": {},
   "outputs": [],
   "source": []
  }
 ],
 "metadata": {
  "kernelspec": {
   "display_name": "Python 3",
   "language": "python",
   "name": "python3"
  },
  "language_info": {
   "codemirror_mode": {
    "name": "ipython",
    "version": 3
   },
   "file_extension": ".py",
   "mimetype": "text/x-python",
   "name": "python",
   "nbconvert_exporter": "python",
   "pygments_lexer": "ipython3",
   "version": "3.7.3"
  }
 },
 "nbformat": 4,
 "nbformat_minor": 2
}
